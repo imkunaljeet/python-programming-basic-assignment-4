{
 "cells": [
  {
   "cell_type": "markdown",
   "metadata": {},
   "source": [
    "**1. Write a Python Program to Find the Factorial of a Number?**"
   ]
  },
  {
   "cell_type": "code",
   "execution_count": 21,
   "metadata": {},
   "outputs": [
    {
     "name": "stdout",
     "output_type": "stream",
     "text": [
      "Enter a integer : 0\n",
      "The factorial of 0 is 1\n"
     ]
    }
   ],
   "source": [
    "def factorial(a):\n",
    "    k = 1 \n",
    "    if a<0:\n",
    "        return 'not defined'\n",
    "    elif (a==0) or (a==1):\n",
    "        return 1\n",
    "    else:\n",
    "        for i in range(1,a+1):\n",
    "            k = k*i\n",
    "    return k            \n",
    "\n",
    "x = int(input(\"Enter a integer : \"))\n",
    "print('The factorial of',x,'is',factorial(x))"
   ]
  },
  {
   "cell_type": "markdown",
   "metadata": {},
   "source": [
    "**2. Write a Python Program to Display the multiplication Table?**"
   ]
  },
  {
   "cell_type": "code",
   "execution_count": 31,
   "metadata": {},
   "outputs": [
    {
     "name": "stdout",
     "output_type": "stream",
     "text": [
      "Enter a number : 5\n",
      "5 * 1 = 5\n",
      "5 * 2 = 10\n",
      "5 * 3 = 15\n",
      "5 * 4 = 20\n",
      "5 * 5 = 25\n",
      "5 * 6 = 30\n",
      "5 * 7 = 35\n",
      "5 * 8 = 40\n",
      "5 * 9 = 45\n",
      "5 * 10 = 50\n"
     ]
    }
   ],
   "source": [
    "n = int(input('Enter a number : ' ))\n",
    "for i in range(1,11):\n",
    "    print (n,'*',i,'=', n*i)"
   ]
  },
  {
   "cell_type": "markdown",
   "metadata": {},
   "source": [
    "**3. Write a Python Program to Print the Fibonacci sequence?**"
   ]
  },
  {
   "cell_type": "code",
   "execution_count": 3,
   "metadata": {},
   "outputs": [
    {
     "name": "stdout",
     "output_type": "stream",
     "text": [
      "Enter the no. of the terms for which you want the fibonacci sequence : 50\n",
      "[0, 1, 1, 2, 3, 5, 8, 13, 21, 34, 55, 89, 144, 233, 377, 610, 987, 1597, 2584, 4181, 6765, 10946, 17711, 28657, 46368, 75025, 121393, 196418, 317811, 514229, 832040, 1346269, 2178309, 3524578, 5702887, 9227465, 14930352, 24157817, 39088169, 63245986, 102334155, 165580141, 267914296, 433494437, 701408733, 1134903170, 1836311903, 2971215073, 4807526976, 7778742049]\n"
     ]
    }
   ],
   "source": [
    "n = int(input('Enter the no. of the terms for which you want the fibonacci sequence : '))\n",
    "l = [0]*n\n",
    "l[0] = 0 \n",
    "def fib(k):\n",
    "    if k > 1:\n",
    "        l[1] = 1\n",
    "        for i in range(2,k):\n",
    "            l[i] = l[i-1] + l[i-2]\n",
    "    print(l)\n",
    "fib(n)"
   ]
  },
  {
   "cell_type": "markdown",
   "metadata": {},
   "source": [
    "**4. Write a Python Program to Check Armstrong Number?**"
   ]
  },
  {
   "cell_type": "code",
   "execution_count": 3,
   "metadata": {},
   "outputs": [
    {
     "name": "stdout",
     "output_type": "stream",
     "text": [
      "Enter No. : 153\n",
      "153 is an armstrong no.\n"
     ]
    }
   ],
   "source": [
    "n = int(input('Enter No. : '))\n",
    "\n",
    "def checkArmstrongNo(n):\n",
    "    exponent = len(str(n))\n",
    "    sum = 0\n",
    "    for i in str(n) :\n",
    "        sum = sum + (int(i))**exponent\n",
    "\n",
    "    if sum == n:\n",
    "        return True\n",
    "    else:\n",
    "        return False\n",
    "        \n",
    "if checkArmstrongNo(n):\n",
    "    print(n,'is an armstrong no.')\n",
    "else:\n",
    "    print(n,'is not an armstrong no.')"
   ]
  },
  {
   "cell_type": "markdown",
   "metadata": {},
   "source": [
    "**5. Write a Python Program to Find Armstrong Number in an Interval?**"
   ]
  },
  {
   "cell_type": "code",
   "execution_count": 5,
   "metadata": {},
   "outputs": [
    {
     "name": "stdout",
     "output_type": "stream",
     "text": [
      "Enter the starting point of interval : 1\n",
      "Enter the end point of interval : 1000\n",
      "1\n",
      "2\n",
      "3\n",
      "4\n",
      "5\n",
      "6\n",
      "7\n",
      "8\n",
      "9\n",
      "153\n",
      "370\n",
      "371\n",
      "407\n"
     ]
    }
   ],
   "source": [
    "start = int(input('Enter the starting point of interval : '))\n",
    "end = int(input('Enter the end point of interval : '))\n",
    "\n",
    "for i in range(start,end+1):\n",
    "    if checkArmstrongNo(i):\n",
    "        print(i)"
   ]
  },
  {
   "cell_type": "markdown",
   "metadata": {},
   "source": [
    "**6. Write a Python Program to Find the Sum of Natural Numbers?**"
   ]
  },
  {
   "cell_type": "code",
   "execution_count": 11,
   "metadata": {},
   "outputs": [
    {
     "name": "stdout",
     "output_type": "stream",
     "text": [
      "Enter the no. of terms for which you want the sum of natural numbers : 8\n",
      "The sum of first 8 natural numbers is :  36\n"
     ]
    }
   ],
   "source": [
    "n = int(input('Enter the no. of terms for which you want the sum of natural numbers : '))\n",
    "sum = (n * (n+1))//2\n",
    "print('The sum of first',n,'natural numbers is : ',sum)"
   ]
  },
  {
   "cell_type": "code",
   "execution_count": null,
   "metadata": {},
   "outputs": [],
   "source": []
  }
 ],
 "metadata": {
  "kernelspec": {
   "display_name": "Python 3",
   "language": "python",
   "name": "python3"
  },
  "language_info": {
   "codemirror_mode": {
    "name": "ipython",
    "version": 3
   },
   "file_extension": ".py",
   "mimetype": "text/x-python",
   "name": "python",
   "nbconvert_exporter": "python",
   "pygments_lexer": "ipython3",
   "version": "3.7.6"
  }
 },
 "nbformat": 4,
 "nbformat_minor": 4
}
